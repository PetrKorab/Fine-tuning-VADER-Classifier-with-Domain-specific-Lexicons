{
 "cells": [
  {
   "cell_type": "code",
   "execution_count": 51,
   "outputs": [],
   "source": [
    "# Henry's (2008) Word List\n",
    "# Henry, Elaine. “Are Investors Influenced By How Earnings Press Releases Are Written.” The Journal of Business Communication 45, no. 4 (2008).\n",
    "\n",
    "Henry = {'threats': -1.5, 'uncertain': -1.5, 'weakened': -1.5, 'obstacle': -1.5, 'challenged': -1.5, 'decreased': -1.5, 'challenging': -1.5, 'penalties': -1.5, 'slumping': -1.5, 'challenge': -1.5, 'decreases': -1.5, 'worse': -1.5, 'disappointing': -1.5, 'obstacles': -1.5, 'worsening': -1.5, 'negatives': -1.5, 'risky': -1.5, 'fell': -1.5, 'fallen': -1.5, 'risk': -1.5, 'declines': -1.5, 'disappoint': -1.5, 'fail': -1.5, 'fails': -1.5, 'penalty': -1.5, 'weaknesses': -1.5, 'least': -1.5, 'decreasing': -1.5, 'slumps': -1.5, 'deteriorate': -1.5, 'drops': -1.5, 'less': -1.5, 'weaken': -1.5, 'weak': -1.5, 'difficulty': -1.5, 'declining': -1.5, 'shrunk': -1.5, 'under': -1.5, 'lower': -1.5, 'uncertainty': -1.5, 'drop': -1.5, 'disappoints': -1.5, 'threat': -1.5, 'hurdle': -1.5, 'below': -1.5, 'disappointment': -1.5, 'depressed': -1.5, 'dropping': -1.5, 'shrink': -1.5, 'deteriorates': -1.5,'failing': -1.5, 'disappointed': -1.5, 'lowest': -1.5, 'hurdles': -1.5, 'challenges': -1.5, 'down': -1.5, 'slumped': -1.5, 'shrinking': -1.5, 'risks': -1.5, 'unsettled': -1.5, 'smallest': -1.5, 'downturn': -1.5, 'weakens': -1.5, 'falling': -1.5, 'weakness': -1.5, 'slump': -1.5, 'failure': -1.5, 'decline': -1.5, 'shrinks': -1.5, 'deteriorated': -1.5, 'worsens': -1.5, 'difficult': -1.5, 'low': -1.5, 'worsen': -1.5, 'decrease': -1.5, 'unfavorable': -1.5, 'deteriorating': -1.5, 'dropped': -1.5, 'falls': -1.5, 'worst': -1.5, 'declined': -1.5, 'fall': -1.5, 'negative': -1.5, 'smaller': -1.5, 'weakening': -1.5, 'improve': 1.5, 'leader': 1.5, 'improves': 1.5, 'strongest': 1.5, 'higher': 1.5, 'succeeded': 1.5, 'enjoys': 1.5, 'up': 1.5, 'best': 1.5, 'growing': 1.5, 'reward': 1.5, 'opportunity': 1.5, 'good': 1.5,'encouraged': 1.5, 'expand': 1.5, 'exceeding': 1.5, 'expansion': 1.5, 'improvement': 1.5, 'increased': 1.5, 'better': 1.5, 'larger': 1.5, 'succeed': 1.5, 'achieve': 1.5, 'strengthen': 1.5, 'succeeds': 1.5, 'rewarding': 1.5, 'rewards': 1.5, 'expands': 1.5, 'certainty': 1.5, 'accomplishing': 1.5, 'grows': 1.5, 'record': 1.5, 'accomplishes': 1.5, 'grown': 1.5, 'progressing': 1.5, 'greatest': 1.5, 'above': 1.5, 'strengthening': 1.5, 'improving': 1.5, 'strong': 1.5, 'stronger': 1.5, 'strength': 1.5, 'high': 1.5, 'improvements': 1.5, 'solid': 1.5,'accomplish': 1.5, 'rise': 1.5, 'highest': 1.5, 'strengthens': 1.5, 'rose': 1.5, 'positives': 1.5, 'deliver': 1.5, 'exceeded': 1.5, 'greater': 1.5, 'achieving': 1.5, 'excellent': 1.5, 'risen': 1.5, 'exceed': 1.5, 'grew': 1.5, 'expanding': 1.5, 'delivers': 1.5, 'accomplished': 1.5, 'enjoy': 1.5, 'opportunities': 1.5, 'most': 1.5, 'definite': 1.5, 'succeeding': 1.5, 'achievements': 1.5, 'rising': 1.5, 'accomplishment': 1.5, 'more': 1.5, 'achieved': 1.5, 'successes': 1.5, 'enjoying': 1.5, 'increasing': 1.5, 'success': 1.5, 'exceeds': 1.5, 'certain': 1.5, 'accomplishments': 1.5, 'beating': 1.5, 'positive': 1.5, 'achieves': 1.5, 'beats': 1.5, 'progress': 1.5, 'leading': 1.5, 'grow': 1.5, 'achievement': 1.5, 'expanded': 1.5, 'growth': 1.5, 'enjoyed': 1.5, 'strengthened': 1.5, 'delivered': 1.5,'pleased': 1.5, 'delivering': 1.5, 'improved': 1.5, 'successful': 1.5, 'largest': 1.5, 'increases': 1.5, 'encouraging': 1.5, 'increase': 1.5, 'rises': 1.5, 'strengths': 1.5, 'rewarded': 1.5, 'beat': 1.5}"
   ],
   "metadata": {
    "collapsed": false,
    "ExecuteTime": {
     "start_time": "2023-05-14T00:18:58.212468Z",
     "end_time": "2023-05-14T00:18:58.227417Z"
    }
   }
  },
  {
   "cell_type": "code",
   "execution_count": 52,
   "outputs": [],
   "source": [
    "# Loughran-McDonald Master Dictionary,\n",
    "# Available at: https://sraf.nd.edu/loughranmcdonald-master-dictionary/\n",
    "import pandas as pd\n",
    "\n",
    "LoughranMcDonald_df =pd.read_csv('Loughran-McDonald.csv', index_col=None)\n",
    "LoughranMcDonald = LoughranMcDonald_df.set_index('word')['polarity'].to_dict()"
   ],
   "metadata": {
    "collapsed": false,
    "ExecuteTime": {
     "start_time": "2023-05-14T00:18:58.212468Z",
     "end_time": "2023-05-14T00:18:58.258982Z"
    }
   }
  },
  {
   "cell_type": "code",
   "execution_count": 53,
   "outputs": [],
   "source": [
    "# SentiBignomics lexicon\n",
    "# Available at: https://github.com/consose/SentiBigNomics/blob/main/python/senti_bignomics.py\n",
    "\n",
    "# import SentiBignomics function with all lexical terms\n",
    "from SentiBignomics import fin_items\n",
    "\n",
    "constant = 0.1  # parameter for tuning classification accurancy\n",
    "\n",
    "SentiBignomics = fin_items()\n",
    "SentiBignomics.update((key, value * constant) for key, value in SentiBignomics.items())"
   ],
   "metadata": {
    "collapsed": false,
    "ExecuteTime": {
     "start_time": "2023-05-14T00:18:58.247474Z",
     "end_time": "2023-05-14T00:18:58.258982Z"
    }
   }
  },
  {
   "cell_type": "code",
   "execution_count": 54,
   "outputs": [],
   "source": [
    "# SentiBignomics lexicon combined with Henry\n",
    "\n",
    "def Merge(dict1, dict2):       # merge two dictionaries\n",
    "    res = {**dict1, **dict2}\n",
    "    return res\n",
    "\n",
    "SentiBignomics_Henry = Merge(SentiBignomics, Henry) # combined lexicon"
   ],
   "metadata": {
    "collapsed": false,
    "ExecuteTime": {
     "start_time": "2023-05-14T00:18:58.258982Z",
     "end_time": "2023-05-14T00:18:58.277845Z"
    }
   }
  },
  {
   "cell_type": "code",
   "execution_count": 55,
   "outputs": [],
   "source": [
    "# Model definition\n",
    "from nltk.sentiment.vader import SentimentIntensityAnalyzer\n",
    "\n",
    "M1 = SentiBignomics\n",
    "M2 = LoughranMcDonald\n",
    "M3 = Henry\n",
    "M4 = SentiBignomics_Henry\n",
    "\n",
    "# Create model specifications with different lexicons\n",
    "vader = SentimentIntensityAnalyzer()\n",
    "vaderM1 = SentimentIntensityAnalyzer()\n",
    "vaderM1.lexicon.update(M1)\n",
    "\n",
    "vaderM2 = SentimentIntensityAnalyzer()\n",
    "vaderM2.lexicon.update(M2)\n",
    "\n",
    "vaderM3 = SentimentIntensityAnalyzer()\n",
    "vaderM3.lexicon.update(M3)\n",
    "\n",
    "vaderM4 = SentimentIntensityAnalyzer()\n",
    "vaderM4.lexicon.update(M4)"
   ],
   "metadata": {
    "collapsed": false,
    "ExecuteTime": {
     "start_time": "2023-05-14T00:18:58.279232Z",
     "end_time": "2023-05-14T00:18:58.307736Z"
    }
   }
  },
  {
   "cell_type": "code",
   "execution_count": 56,
   "outputs": [],
   "source": [
    "# Generate classification functions\n",
    "# Baseline VADER\n",
    "\n",
    "def sentiment_vader(sentence):\n",
    "\n",
    "    sentiment_dict = vader.polarity_scores(sentence)\n",
    "\n",
    "    compound = sentiment_dict['compound']\n",
    "\n",
    "    if sentiment_dict['compound'] > 0.33 :\n",
    "        overall_sentiment = 1\n",
    "\n",
    "    elif sentiment_dict['compound'] < - 0.33 :\n",
    "        overall_sentiment = - 1\n",
    "\n",
    "    else :\n",
    "        overall_sentiment = 0\n",
    "\n",
    "    return overall_sentiment"
   ],
   "metadata": {
    "collapsed": false,
    "ExecuteTime": {
     "start_time": "2023-05-14T00:18:58.307736Z",
     "end_time": "2023-05-14T00:18:58.324532Z"
    }
   }
  },
  {
   "cell_type": "code",
   "execution_count": 57,
   "outputs": [],
   "source": [
    "# Model 1 - SentiBignomics classification function\n",
    "\n",
    "def sentiment_vaderM1(sentence):\n",
    "\n",
    "    sentiment_dict = vaderM1.polarity_scores(sentence)\n",
    "\n",
    "    compound = sentiment_dict['compound']\n",
    "\n",
    "    if sentiment_dict['compound'] > 0.33 :\n",
    "        overall_sentiment = 1\n",
    "\n",
    "    elif sentiment_dict['compound'] < - 0.33 :\n",
    "        overall_sentiment = - 1\n",
    "\n",
    "    else :\n",
    "        overall_sentiment = 0\n",
    "\n",
    "    return overall_sentiment"
   ],
   "metadata": {
    "collapsed": false,
    "ExecuteTime": {
     "start_time": "2023-05-14T00:18:58.197403Z",
     "end_time": "2023-05-14T00:18:58.347481Z"
    }
   }
  },
  {
   "cell_type": "code",
   "execution_count": 58,
   "outputs": [],
   "source": [
    "# Model 2 - Loughran-McDonald classification function\n",
    "def sentiment_vaderM2(sentence):\n",
    "\n",
    "    sentiment_dict = vaderM2.polarity_scores(sentence)\n",
    "\n",
    "    compound = sentiment_dict['compound']\n",
    "\n",
    "    if sentiment_dict['compound'] > 0.33 :\n",
    "        overall_sentiment = 1\n",
    "\n",
    "    elif sentiment_dict['compound'] < - 0.33 :\n",
    "        overall_sentiment = - 1\n",
    "\n",
    "    else :\n",
    "        overall_sentiment = 0\n",
    "\n",
    "    return overall_sentiment"
   ],
   "metadata": {
    "collapsed": false,
    "ExecuteTime": {
     "start_time": "2023-05-14T00:18:58.197403Z",
     "end_time": "2023-05-14T00:18:58.358608Z"
    }
   }
  },
  {
   "cell_type": "code",
   "execution_count": 59,
   "outputs": [],
   "source": [
    "# Model 3 - Henry classification function\n",
    "def sentiment_vaderM3(sentence):\n",
    "\n",
    "    sentiment_dict = vaderM3.polarity_scores(sentence)\n",
    "\n",
    "    compound = sentiment_dict['compound']\n",
    "\n",
    "    if sentiment_dict['compound'] > 0.33 :\n",
    "        overall_sentiment = 1\n",
    "\n",
    "    elif sentiment_dict['compound'] < - 0.33 :\n",
    "        overall_sentiment = - 1\n",
    "\n",
    "    else :\n",
    "        overall_sentiment = 0\n",
    "\n",
    "    return overall_sentiment"
   ],
   "metadata": {
    "collapsed": false,
    "ExecuteTime": {
     "start_time": "2023-05-14T00:18:58.197403Z",
     "end_time": "2023-05-14T00:18:58.377475Z"
    }
   }
  },
  {
   "cell_type": "code",
   "execution_count": 60,
   "outputs": [],
   "source": [
    "# Model 4 - Henry + SentiBignomics classification function\n",
    "\n",
    "def sentiment_vaderM4(sentence):\n",
    "\n",
    "    sentiment_dict = vaderM4.polarity_scores(sentence)\n",
    "\n",
    "    compound = sentiment_dict['compound']\n",
    "\n",
    "    if sentiment_dict['compound'] > 0.33 :\n",
    "        overall_sentiment = 1\n",
    "\n",
    "    elif sentiment_dict['compound'] < - 0.33 :\n",
    "        overall_sentiment = - 1\n",
    "\n",
    "    else :\n",
    "        overall_sentiment = 0\n",
    "\n",
    "    return overall_sentiment"
   ],
   "metadata": {
    "collapsed": false,
    "ExecuteTime": {
     "start_time": "2023-05-14T00:18:58.197403Z",
     "end_time": "2023-05-14T00:18:58.390996Z"
    }
   }
  },
  {
   "cell_type": "code",
   "execution_count": 61,
   "outputs": [],
   "source": [
    "# import testing data\n",
    "\n",
    "import pandas as pd\n",
    "data = pd.read_csv('testing_data.csv',index_col=None)"
   ],
   "metadata": {
    "collapsed": false,
    "ExecuteTime": {
     "start_time": "2023-05-14T00:18:58.197403Z",
     "end_time": "2023-05-14T00:18:58.422722Z"
    }
   }
  },
  {
   "cell_type": "code",
   "execution_count": 62,
   "outputs": [],
   "source": [
    "# apply classification function\n",
    "\n",
    "import numpy as np\n",
    "\n",
    "data['baseline'] = np.vectorize(sentiment_vader)(data['text'])\n",
    "data['M1'] = np.vectorize(sentiment_vaderM1)(data['text'])\n",
    "data['M2'] = np.vectorize(sentiment_vaderM2)(data['text'])\n",
    "data['M3'] = np.vectorize(sentiment_vaderM3)(data['text'])\n",
    "data['M4'] = np.vectorize(sentiment_vaderM4)(data['text'])\n",
    "\n",
    "data['label'] = data['label'].astype(int)\n",
    "data['baseline'] = data['baseline'].astype(int)\n",
    "data['M1'] = data['M1'].astype(int)\n",
    "data['M2'] = data['M2'].astype(int)\n",
    "data['M3'] = data['M3'].astype(int)\n",
    "data['M4'] = data['M4'].astype(int)"
   ],
   "metadata": {
    "collapsed": false,
    "ExecuteTime": {
     "start_time": "2023-05-14T00:18:58.197403Z",
     "end_time": "2023-05-14T00:19:02.201480Z"
    }
   }
  },
  {
   "cell_type": "code",
   "execution_count": 63,
   "outputs": [],
   "source": [
    "# calculate accuracy\n",
    "\n",
    "data['M1_correct'] = np.where(data['label'] == data['M1'], 1, 0)\n",
    "data['M2_correct'] = np.where(data['label'] == data['M2'], 1, 0)\n",
    "data['M3_correct'] = np.where(data['label'] == data['M3'], 1, 0)\n",
    "data['M4_correct'] = np.where(data['label'] == data['M4'], 1, 0)\n",
    "data['baseline_correct'] = np.where(data['label'] == data['baseline'], 1, 0)"
   ],
   "metadata": {
    "collapsed": false,
    "ExecuteTime": {
     "start_time": "2023-05-14T00:18:58.197403Z",
     "end_time": "2023-05-14T00:19:02.217643Z"
    }
   }
  },
  {
   "cell_type": "code",
   "execution_count": 64,
   "outputs": [],
   "source": [
    "vader_accuracy = data[data[\"baseline_correct\"] == 1]\n",
    "SentiBignomics_accuracy = data[data[\"M1_correct\"] == 1]\n",
    "LoughranMcDonald_accuracy = data[data[\"M2_correct\"] == 1]\n",
    "Henry_accuracy = data[data[\"M3_correct\"] == 1]\n",
    "SentiBignomics_Henry_accuracy = data[data[\"M4_correct\"] == 1]"
   ],
   "metadata": {
    "collapsed": false,
    "ExecuteTime": {
     "start_time": "2023-05-14T00:18:58.197403Z",
     "end_time": "2023-05-14T00:19:02.237403Z"
    }
   }
  },
  {
   "cell_type": "code",
   "execution_count": 65,
   "outputs": [],
   "source": [
    "# display classification results\n",
    "\n",
    "print(\"Baseline VADER accuracy is:\",round((((len(vader_accuracy. index) / len(data)) * 100)),2), \"%\")\n",
    "print(\"Loughran-McDonald model accuracy is\",round((((len(LoughranMcDonald_accuracy. index) / len(data)) * 100)), 2), \"%\")\n",
    "print(\"SentiBignomics model accuracy is:\",round((((len(SentiBignomics_accuracy. index) / len(data)) * 100)),2), \"%\")\n",
    "print(\"Henry model accuracy is:\",round((((len(Henry_accuracy. index) / len(data)) * 100)),2), \"%\")\n",
    "print(\"Henry + SentiBignomics model accuracy is:\",round((((len(SentiBignomics_Henry_accuracy. index) / len(data)) * 100)),2), \"%\")"
   ],
   "metadata": {
    "collapsed": false,
    "ExecuteTime": {
     "start_time": "2023-05-14T00:18:58.197403Z",
     "end_time": "2023-05-14T00:19:02.252368Z"
    }
   }
  }
 ],
 "metadata": {
  "kernelspec": {
   "display_name": "Python 3",
   "language": "python",
   "name": "python3"
  },
  "language_info": {
   "codemirror_mode": {
    "name": "ipython",
    "version": 2
   },
   "file_extension": ".py",
   "mimetype": "text/x-python",
   "name": "python",
   "nbconvert_exporter": "python",
   "pygments_lexer": "ipython2",
   "version": "2.7.6"
  }
 },
 "nbformat": 4,
 "nbformat_minor": 0
}
